{
 "cells": [
  {
   "cell_type": "code",
   "execution_count": 8,
   "metadata": {},
   "outputs": [],
   "source": [
    "import csv\n",
    "import random"
   ]
  },
  {
   "cell_type": "code",
   "execution_count": 15,
   "metadata": {},
   "outputs": [
    {
     "name": "stdout",
     "output_type": "stream",
     "text": [
      "Done\n"
     ]
    }
   ],
   "source": [
    "test_size = 300\n",
    "set_size = 1000\n",
    "captions_filename = f'../../AIDe_ANNOTATED_DESCRIPTIONS/captions.csv'\n",
    "\n",
    "\n",
    "with open(captions_filename, newline='', encoding='utf-8') as f:\n",
    "    reader = csv.reader(f, delimiter='\\t')\n",
    "    img_names = []\n",
    "    next(reader)\n",
    "    for row in reader:\n",
    "        img_name = row[1]\n",
    "        img_names.append(img_name)\n",
    "            \n",
    "    for i in range(0,5):\n",
    "        test_images = []\n",
    "        train_images = []\n",
    "        test_indexes = random.sample(range(0, set_size), test_size)\n",
    "        \n",
    "        for j in range(0,set_size):\n",
    "            if j in test_indexes:\n",
    "                test_images.append(img_names[j])\n",
    "            else:\n",
    "                train_images.append(img_names[j])\n",
    "    \n",
    "        with open(f'randomState/trainImages{i}.txt', 'w') as ft:\n",
    "            for name in train_images:\n",
    "                print(name, file=ft) \n",
    "        with open(f'randomState/testImages{i}.txt', 'w') as ft:\n",
    "            for name in test_images:\n",
    "                print(name, file=ft) \n",
    "\n",
    "print('Done')"
   ]
  },
  {
   "cell_type": "code",
   "execution_count": null,
   "metadata": {},
   "outputs": [],
   "source": []
  }
 ],
 "metadata": {
  "kernelspec": {
   "display_name": "Python 3",
   "language": "python",
   "name": "python3"
  },
  "language_info": {
   "codemirror_mode": {
    "name": "ipython",
    "version": 3
   },
   "file_extension": ".py",
   "mimetype": "text/x-python",
   "name": "python",
   "nbconvert_exporter": "python",
   "pygments_lexer": "ipython3",
   "version": "3.7.9"
  }
 },
 "nbformat": 4,
 "nbformat_minor": 4
}
