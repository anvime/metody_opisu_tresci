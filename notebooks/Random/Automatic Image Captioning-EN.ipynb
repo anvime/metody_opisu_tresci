{
 "cells": [
  {
   "cell_type": "markdown",
   "metadata": {},
   "source": [
    "##### Notatki\n",
    "Tutorial tutaj: https://towardsdatascience.com/image-captioning-with-keras-teaching-computers-to-describe-pictures-c88a46a311b8\n",
    "\n",
    "Dane Flickr 8k:\n",
    "https://github.com/jbrownlee/Datasets/releases/download/Flickr8k/Flickr8k_Dataset.zip\n",
    "\n",
    "Polskie podpisy: http://zil.ipipan.waw.pl/Scwad/AIDe?action=AttachFile&do=get&target=AIDe_ANNOTATED_DESCRIPTIONS.zip"
   ]
  },
  {
   "cell_type": "code",
   "execution_count": 1,
   "metadata": {},
   "outputs": [
    {
     "name": "stderr",
     "output_type": "stream",
     "text": [
      "Using TensorFlow backend.\n"
     ]
    }
   ],
   "source": [
    "import numpy as np\n",
    "from numpy import array\n",
    "import pandas as pd\n",
    "import matplotlib.pyplot as plt\n",
    "%matplotlib inline\n",
    "import string\n",
    "import os\n",
    "from PIL import Image\n",
    "import glob\n",
    "from pickle import dump, load\n",
    "from time import time\n",
    "from keras.preprocessing import sequence\n",
    "from keras.models import Sequential\n",
    "from keras.layers import LSTM, Embedding, TimeDistributed, Dense, RepeatVector,\\\n",
    "                         Activation, Flatten, Reshape, concatenate, Dropout, BatchNormalization\n",
    "from keras.optimizers import Adam, RMSprop\n",
    "from keras.layers.wrappers import Bidirectional\n",
    "from keras.layers.merge import add\n",
    "from keras.applications.inception_v3 import InceptionV3\n",
    "from keras.preprocessing import image\n",
    "from keras.models import Model\n",
    "from keras import Input, layers\n",
    "from keras import optimizers\n",
    "from keras.applications.inception_v3 import preprocess_input\n",
    "from keras.preprocessing.text import Tokenizer\n",
    "from keras.preprocessing.sequence import pad_sequences\n",
    "from keras.utils import to_categorical\n",
    "import tensorflow as tf\n",
    "from unidecode import unidecode\n",
    "import csv\n",
    "from math import ceil"
   ]
  },
  {
   "cell_type": "code",
   "execution_count": 2,
   "metadata": {},
   "outputs": [],
   "source": [
    "learn_mode = 'en'"
   ]
  },
  {
   "cell_type": "code",
   "execution_count": 3,
   "metadata": {},
   "outputs": [],
   "source": [
    "tokens_filename = \"../../Flickr8k_text/Flickr8k.token.txt\"\n",
    "descriptions_filename = f'descriptions_{learn_mode}.txt'\n",
    "\n",
    "test_images = []\n",
    "train_images = []\n",
    "    "
   ]
  },
  {
   "cell_type": "code",
   "execution_count": 4,
   "metadata": {},
   "outputs": [
    {
     "name": "stdout",
     "output_type": "stream",
     "text": [
      "1000268201_693b08cb0e.jpg#0\tA child in a pink dress is climbing up a set of stairs in an entry way .\n",
      "1000268201_693b08cb0e.jpg#1\tA girl going into a wooden building .\n",
      "1000268201_693b08cb0e.jpg#2\tA little girl climbing into a wooden playhouse .\n",
      "1000268201_693b08cb0e.jpg#3\tA little girl climbing the s\n"
     ]
    }
   ],
   "source": [
    "# load doc into memory\n",
    "def load_doc(filename):\n",
    "\t# open the file as read only\n",
    "\tfile = open(filename, 'r')\n",
    "\t# read all text\n",
    "\ttext = file.read()\n",
    "\t# close the file\n",
    "\tfile.close()\n",
    "\treturn text\n",
    "\n",
    "# load descriptions\n",
    "doc = load_doc(tokens_filename)\n",
    "print(doc[:300])"
   ]
  },
  {
   "cell_type": "code",
   "execution_count": 5,
   "metadata": {},
   "outputs": [
    {
     "name": "stdout",
     "output_type": "stream",
     "text": [
      "Loaded: 8092 \n"
     ]
    }
   ],
   "source": [
    "def load_descriptions(doc):\n",
    "\tmapping = dict()\n",
    "\t# process lines\n",
    "\tfor line in doc.split('\\n'):\n",
    "\t\t# split line by white space\n",
    "\t\ttokens = line.split()\n",
    "\t\tif len(line) < 2:\n",
    "\t\t\tcontinue\n",
    "\t\t# take the first token as the image id, the rest as the description\n",
    "\t\timage_id, image_desc = tokens[0], tokens[1:]\n",
    "\t\t# extract filename from image id\n",
    "\t\timage_id = image_id.split('.')[0]\n",
    "\t\t# convert description tokens back to string\n",
    "\t\timage_desc = ' '.join(image_desc)\n",
    "\t\t# create the list if needed\n",
    "\t\tif image_id not in mapping:\n",
    "\t\t\tmapping[image_id] = list()\n",
    "\t\t# store description\n",
    "\t\tmapping[image_id].append(image_desc)\n",
    "\treturn mapping\n",
    "\n",
    "# parse descriptions\n",
    "descriptions = load_descriptions(doc)\n",
    "print('Loaded: %d ' % len(descriptions))"
   ]
  },
  {
   "cell_type": "code",
   "execution_count": 6,
   "metadata": {},
   "outputs": [
    {
     "data": {
      "text/plain": [
       "['1000268201_693b08cb0e',\n",
       " '1001773457_577c3a7d70',\n",
       " '1002674143_1b742ab4b8',\n",
       " '1003163366_44323f5815',\n",
       " '1007129816_e794419615']"
      ]
     },
     "execution_count": 6,
     "metadata": {},
     "output_type": "execute_result"
    }
   ],
   "source": [
    "list(descriptions.keys())[:5]"
   ]
  },
  {
   "cell_type": "code",
   "execution_count": 7,
   "metadata": {
    "scrolled": true
   },
   "outputs": [
    {
     "data": {
      "text/plain": [
       "['A female softball player making a pitch .',\n",
       " 'A girl is winding up to throw a softball .',\n",
       " 'A teenage girl is catching a softball during a game .',\n",
       " 'Kids playing softball .',\n",
       " 'Young girl playing softball with white house in background']"
      ]
     },
     "execution_count": 7,
     "metadata": {},
     "output_type": "execute_result"
    }
   ],
   "source": [
    "descriptions['1355703632_5683a4b6fb']"
   ]
  },
  {
   "cell_type": "code",
   "execution_count": 8,
   "metadata": {},
   "outputs": [
    {
     "data": {
      "text/plain": [
       "['A cricket batsman swinging',\n",
       " 'A man playing cricket',\n",
       " 'A man wearing a baseball uniform swings back with a large bat .',\n",
       " 'A man wearing white clothes playing cricket .',\n",
       " 'The baseball player holds up his bat ready to swing .']"
      ]
     },
     "execution_count": 8,
     "metadata": {},
     "output_type": "execute_result"
    }
   ],
   "source": [
    "descriptions['2521938802_853224f378']"
   ]
  },
  {
   "cell_type": "code",
   "execution_count": 9,
   "metadata": {},
   "outputs": [],
   "source": [
    "def clean_descriptions(descriptions):\n",
    "\t# prepare translation table for removing punctuation\n",
    "\ttable = str.maketrans('', '', string.punctuation)\n",
    "\tfor key, desc_list in descriptions.items():\n",
    "\t\tfor i in range(len(desc_list)):\n",
    "\t\t\tdesc = desc_list[i]\n",
    "\t\t\t# tokenize\n",
    "\t\t\tdesc = desc.split()\n",
    "\t\t\t# convert to lower case\n",
    "\t\t\tdesc = [word.lower() for word in desc]\n",
    "\t\t\t# remove punctuation from each token\n",
    "\t\t\tdesc = [w.translate(table) for w in desc]\n",
    "\t\t\t# remove hanging 's' and 'a'\n",
    "\t\t\tdesc = [word for word in desc if len(word)>1]\n",
    "\t\t\t# remove tokens with numbers in them\n",
    "\t\t\tdesc = [word for word in desc if word.isalpha()]\n",
    "\t\t\t# store as string\n",
    "\t\t\tdesc_list[i] =  ' '.join(desc)\n",
    "\n",
    "# clean descriptions\n",
    "clean_descriptions(descriptions)"
   ]
  },
  {
   "cell_type": "code",
   "execution_count": null,
   "metadata": {},
   "outputs": [],
   "source": []
  },
  {
   "cell_type": "code",
   "execution_count": 10,
   "metadata": {
    "scrolled": true
   },
   "outputs": [
    {
     "data": {
      "text/plain": [
       "['female softball player making pitch',\n",
       " 'girl is winding up to throw softball',\n",
       " 'teenage girl is catching softball during game',\n",
       " 'kids playing softball',\n",
       " 'young girl playing softball with white house in background']"
      ]
     },
     "execution_count": 10,
     "metadata": {},
     "output_type": "execute_result"
    }
   ],
   "source": [
    "descriptions['1355703632_5683a4b6fb']"
   ]
  },
  {
   "cell_type": "code",
   "execution_count": 11,
   "metadata": {
    "scrolled": true
   },
   "outputs": [
    {
     "data": {
      "text/plain": [
       "['cricket batsman swinging',\n",
       " 'man playing cricket',\n",
       " 'man wearing baseball uniform swings back with large bat',\n",
       " 'man wearing white clothes playing cricket',\n",
       " 'the baseball player holds up his bat ready to swing']"
      ]
     },
     "execution_count": 11,
     "metadata": {},
     "output_type": "execute_result"
    }
   ],
   "source": [
    "descriptions['2521938802_853224f378']"
   ]
  },
  {
   "cell_type": "code",
   "execution_count": 12,
   "metadata": {},
   "outputs": [
    {
     "name": "stdout",
     "output_type": "stream",
     "text": [
      "Original Vocabulary Size: 8763\n"
     ]
    }
   ],
   "source": [
    "# convert the loaded descriptions into a vocabulary of words\n",
    "def to_vocabulary(descriptions):\n",
    "\t# build a list of all description strings\n",
    "\tall_desc = set()\n",
    "\tfor key in descriptions.keys():\n",
    "\t\t[all_desc.update(d.split()) for d in descriptions[key]]\n",
    "\treturn all_desc\n",
    "\n",
    "# summarize vocabulary\n",
    "vocabulary = to_vocabulary(descriptions)\n",
    "print('Original Vocabulary Size: %d' % len(vocabulary))"
   ]
  },
  {
   "cell_type": "code",
   "execution_count": 13,
   "metadata": {},
   "outputs": [],
   "source": [
    "# save descriptions to file, one per line\n",
    "def save_descriptions(descriptions, filename):\n",
    "\tlines = list()\n",
    "\tfor key, desc_list in descriptions.items():\n",
    "\t\tfor desc in desc_list:\n",
    "\t\t\tlines.append(key + ' ' + desc)\n",
    "\tdata = '\\n'.join(lines)\n",
    "\tfile = open(filename, 'w', encoding='utf-8')\n",
    "\tfile.write(data)\n",
    "\tfile.close()\n",
    "\n",
    "save_descriptions(descriptions, descriptions_filename)"
   ]
  },
  {
   "cell_type": "code",
   "execution_count": 14,
   "metadata": {},
   "outputs": [
    {
     "name": "stdout",
     "output_type": "stream",
     "text": [
      "Dataset: 700\n",
      "Dataset: 700\n",
      "Dataset: 700\n",
      "Dataset: 700\n",
      "Dataset: 700\n"
     ]
    }
   ],
   "source": [
    "# load a pre-defined list of photo identifiers\n",
    "def load_set(filename):\n",
    "\tdoc = load_doc(filename)\n",
    "\tdataset = list()\n",
    "\t# process line by line\n",
    "\tfor line in doc.split('\\n'):\n",
    "\t\t# skip empty lines\n",
    "\t\tif len(line) < 1:\n",
    "\t\t\tcontinue\n",
    "\t\t# get the image identifier\n",
    "\t\tidentifier = line.split('.')[0]\n",
    "\t\tdataset.append(identifier)\n",
    "\treturn set(dataset)\n",
    "\n",
    "train = []\n",
    "\n",
    "# load training dataset (6K)\n",
    "for i in range(0,5): \n",
    "    train.append(load_set(f'randomState/trainImages{i}.txt'))\n",
    "    print('Dataset: %d' % len(train[i]))"
   ]
  },
  {
   "cell_type": "code",
   "execution_count": 15,
   "metadata": {},
   "outputs": [],
   "source": [
    "# Below path contains all the images\n",
    "images = '../../Flickr8k_Dataset/'\n",
    "# Create a list of all image names in the directory\n",
    "img = glob.glob(images + '*.jpg')"
   ]
  },
  {
   "cell_type": "code",
   "execution_count": 16,
   "metadata": {},
   "outputs": [],
   "source": [
    "train_images = []\n",
    "train_img = []\n",
    "\n",
    "# Read the train image names in a set\n",
    "for i in range(0,5):\n",
    "    train_images.append(set(open(f'randomState/trainImages{i}.txt', 'r').read().strip().split('\\n')))\n",
    "    # Create a list of all the training images with their full path names\n",
    "    train_img.append([])\n",
    "\n",
    "    for im in img: # img is list of full path names of all images\n",
    "        if im[len(images):] in train_images[i]: # Check if the image belongs to training set\n",
    "            train_img[i].append(im) # Add it to the list of train images"
   ]
  },
  {
   "cell_type": "code",
   "execution_count": 17,
   "metadata": {},
   "outputs": [],
   "source": [
    "test_images = []\n",
    "test_img = []\n",
    "\n",
    "# Read the train image names in a set\n",
    "for i in range(0,5):\n",
    "    test_images.append(set(open(f'randomState/testImages{i}.txt', 'r').read().strip().split('\\n')))\n",
    "\n",
    "    # Create a list of all the training images with their full path names\n",
    "    test_img.append([])\n",
    "\n",
    "    for im in img: # img is list of full path names of all images\n",
    "        if im[len(images):] in test_images[i]: # Check if the image belongs to training set\n",
    "            test_img[i].append(im) # Add it to the list of train images"
   ]
  },
  {
   "cell_type": "code",
   "execution_count": 18,
   "metadata": {},
   "outputs": [
    {
     "name": "stdout",
     "output_type": "stream",
     "text": [
      "Descriptions: train=700\n",
      "Descriptions: train=700\n",
      "Descriptions: train=700\n",
      "Descriptions: train=700\n",
      "Descriptions: train=700\n"
     ]
    }
   ],
   "source": [
    "# load clean descriptions into memory\n",
    "def load_clean_descriptions(filename, dataset):\n",
    "\t# load document\n",
    "\tdoc = load_doc(filename)\n",
    "\tdescriptions = dict()\n",
    "\tfor line in doc.split('\\n'):\n",
    "\t\t# split line by white space\n",
    "\t\ttokens = line.split()\n",
    "\t\t# split id from description\n",
    "\t\timage_id, image_desc = tokens[0], tokens[1:]\n",
    "\t\t# skip images not in the set\n",
    "\t\tif image_id in dataset:\n",
    "\t\t\t# create list\n",
    "\t\t\tif image_id not in descriptions:\n",
    "\t\t\t\tdescriptions[image_id] = list()\n",
    "\t\t\t# wrap description in tokens\n",
    "\t\t\tdesc = 'startseq ' + ' '.join(image_desc) + ' endseq'\n",
    "\t\t\t# store\n",
    "\t\t\tdescriptions[image_id].append(desc)\n",
    "\treturn descriptions\n",
    "\n",
    "train_descriptions = []\n",
    "\n",
    "# descriptions\n",
    "for i in range(0,5):\n",
    "    train_descriptions.append(load_clean_descriptions(descriptions_filename, train[i]))\n",
    "    print('Descriptions: train=%d' % len(train_descriptions[i]))"
   ]
  },
  {
   "cell_type": "code",
   "execution_count": null,
   "metadata": {},
   "outputs": [],
   "source": []
  },
  {
   "cell_type": "code",
   "execution_count": 19,
   "metadata": {},
   "outputs": [],
   "source": [
    "def preprocess(image_path):\n",
    "    # Convert all the images to size 299x299 as expected by the inception v3 model\n",
    "    img = image.load_img(image_path, target_size=(299, 299))\n",
    "    # Convert PIL image to numpy array of 3-dimensions\n",
    "    x = image.img_to_array(img)\n",
    "    # Add one more dimension\n",
    "    x = np.expand_dims(x, axis=0)\n",
    "    # preprocess the images using preprocess_input() from inception module\n",
    "    x = preprocess_input(x)\n",
    "    return x"
   ]
  },
  {
   "cell_type": "code",
   "execution_count": 20,
   "metadata": {},
   "outputs": [],
   "source": [
    "# Load the inception v3 model\n",
    "model = InceptionV3(weights='imagenet')"
   ]
  },
  {
   "cell_type": "code",
   "execution_count": 21,
   "metadata": {},
   "outputs": [],
   "source": [
    "# Create a new model, by removing the last layer (output layer) from the inception v3\n",
    "model_new = Model(model.input, model.layers[-2].output)"
   ]
  },
  {
   "cell_type": "code",
   "execution_count": 22,
   "metadata": {},
   "outputs": [],
   "source": [
    "# Function to encode a given image into a vector of size (2048, )\n",
    "def encode(image):\n",
    "    image = preprocess(image) # preprocess the image\n",
    "    fea_vec = model_new.predict(image) # Get the encoding vector for the image\n",
    "    fea_vec = np.reshape(fea_vec, fea_vec.shape[1]) # reshape from (1, 2048) to (2048, )\n",
    "    return fea_vec"
   ]
  },
  {
   "cell_type": "markdown",
   "metadata": {},
   "source": [
    "###### Notatki\n",
    "Poniższy kod zajmuje bardzo dużo czasu."
   ]
  },
  {
   "cell_type": "code",
   "execution_count": 23,
   "metadata": {},
   "outputs": [
    {
     "name": "stdout",
     "output_type": "stream",
     "text": [
      "............................................................................................................................................................................................................................................................................................................................................................................................................................................................................................................................................................................................................................................................................................................................Time taken in seconds = 203.4167582988739\n",
      "............................................................................................................................................................................................................................................................................................................................................................................................................................................................................................................................................................................................................................................................................................................................Time taken in seconds = 192.0210361480713\n",
      "............................................................................................................................................................................................................................................................................................................................................................................................................................................................................................................................................................................................................................................................................................................................Time taken in seconds = 188.46644163131714\n",
      "............................................................................................................................................................................................................................................................................................................................................................................................................................................................................................................................................................................................................................................................................................................................Time taken in seconds = 185.53870606422424\n",
      "............................................................................................................................................................................................................................................................................................................................................................................................................................................................................................................................................................................................................................................................................................................................Time taken in seconds = 176.79665660858154\n"
     ]
    }
   ],
   "source": [
    "# Call the funtion to encode all the train images\n",
    "# This will take a while on CPU - Execute this only once\n",
    "encoding_train = []\n",
    "\n",
    "for i in range(0,5):\n",
    "    start = time()\n",
    "    encoding_train.append({})\n",
    "    for img in train_img[i]:\n",
    "        encoding_train[i][img[len(images):]] = encode(img)\n",
    "        print('.', end='')\n",
    "    print(\"Time taken in seconds =\", time()-start)"
   ]
  },
  {
   "cell_type": "code",
   "execution_count": 24,
   "metadata": {},
   "outputs": [],
   "source": [
    "import os\n",
    "import pickle\n",
    "\n",
    "\n",
    "for i in range(0,5):\n",
    "    writepath = f'Pickle/encoded_train_images_{learn_mode}_{i}.pkl'\n",
    "\n",
    "    mode = 'a' if os.path.exists(writepath) else 'wb'\n",
    "\n",
    "    # Save the bottleneck train features to disk\n",
    "    with open(writepath, \"wb\") as encoded_pickle:\n",
    "        pickle.dump(encoding_train[i], encoded_pickle)"
   ]
  },
  {
   "cell_type": "code",
   "execution_count": 25,
   "metadata": {},
   "outputs": [
    {
     "name": "stdout",
     "output_type": "stream",
     "text": [
      "............................................................................................................................................................................................................................................................................................................Time taken in seconds = 75.66325879096985\n",
      "............................................................................................................................................................................................................................................................................................................Time taken in seconds = 76.40600776672363\n",
      "............................................................................................................................................................................................................................................................................................................Time taken in seconds = 78.39168357849121\n",
      "............................................................................................................................................................................................................................................................................................................Time taken in seconds = 77.6739194393158\n",
      "............................................................................................................................................................................................................................................................................................................Time taken in seconds = 76.40268754959106\n"
     ]
    }
   ],
   "source": [
    "# Call the funtion to encode all the test images - Execute this only once\n",
    "encoding_test = []\n",
    "\n",
    "for i in range(0,5):\n",
    "    start = time()\n",
    "    encoding_test.append({})\n",
    "    for img in test_img[i]:\n",
    "        encoding_test[i][img[len(images):]] = encode(img)\n",
    "        print('.', end='')\n",
    "    print(\"Time taken in seconds =\", time()-start)"
   ]
  },
  {
   "cell_type": "code",
   "execution_count": 26,
   "metadata": {},
   "outputs": [],
   "source": [
    "# Save the bottleneck test features to disk\n",
    "for i in range(0,5):\n",
    "    with open(f'Pickle/encoded_test_images_{learn_mode}_{i}.pkl', \"wb\") as encoded_pickle:\n",
    "        pickle.dump(encoding_test[i], encoded_pickle)"
   ]
  },
  {
   "cell_type": "code",
   "execution_count": 27,
   "metadata": {},
   "outputs": [
    {
     "name": "stdout",
     "output_type": "stream",
     "text": [
      "Photos: train=700\n",
      "Photos: train=700\n",
      "Photos: train=700\n",
      "Photos: train=700\n",
      "Photos: train=700\n"
     ]
    }
   ],
   "source": [
    "train_features = []\n",
    "\n",
    "for i in range(0,5):\n",
    "    train_features.append(load(open(f'Pickle/encoded_train_images_{learn_mode}_{i}.pkl', \"rb\")))\n",
    "    print('Photos: train=%d' % len(train_features[i]))"
   ]
  },
  {
   "cell_type": "code",
   "execution_count": 28,
   "metadata": {},
   "outputs": [
    {
     "name": "stdout",
     "output_type": "stream",
     "text": [
      "3500\n",
      "3500\n",
      "3500\n",
      "3500\n",
      "3500\n"
     ]
    }
   ],
   "source": [
    "# Create a list of all the training captions\n",
    "all_train_captions = []\n",
    "\n",
    "for i in range(0,5):\n",
    "    all_train_captions.append([])\n",
    "    for key, val in train_descriptions[i].items():\n",
    "        for cap in val:\n",
    "            all_train_captions[i].append(cap)\n",
    "    print(len(all_train_captions[i]))"
   ]
  },
  {
   "cell_type": "code",
   "execution_count": 29,
   "metadata": {},
   "outputs": [
    {
     "name": "stdout",
     "output_type": "stream",
     "text": [
      "preprocessed words 2802 -> 438\n",
      "preprocessed words 2767 -> 434\n",
      "preprocessed words 2788 -> 453\n",
      "preprocessed words 2720 -> 448\n",
      "preprocessed words 2786 -> 444\n"
     ]
    }
   ],
   "source": [
    "# Consider only words which occur at least 10 times in the corpus\n",
    "word_count_threshold = 10\n",
    "word_counts = []\n",
    "vocab = []\n",
    "\n",
    "for i in range(0,5):\n",
    "    word_counts.append({})\n",
    "    nsents = 0\n",
    "    for sent in all_train_captions[i]:\n",
    "        nsents += 1\n",
    "        for w in sent.split(' '):\n",
    "            word_counts[i][w] = word_counts[i].get(w, 0) + 1\n",
    "\n",
    "    vocab.append([w for w in word_counts[i] if word_counts[i][w] >= word_count_threshold])\n",
    "    print('preprocessed words %d -> %d' % (len(word_counts[i]), len(vocab[i])))"
   ]
  },
  {
   "cell_type": "code",
   "execution_count": 30,
   "metadata": {},
   "outputs": [],
   "source": [
    "ixtoword = []\n",
    "wordtoix = []\n",
    "\n",
    "for i in range(0,5):\n",
    "    ixtoword.append({})\n",
    "    wordtoix.append({})\n",
    "\n",
    "    ix = 1\n",
    "    for w in vocab[i]:\n",
    "        wordtoix[i][w] = ix\n",
    "        ixtoword[i][ix] = w\n",
    "        ix += 1"
   ]
  },
  {
   "cell_type": "code",
   "execution_count": 31,
   "metadata": {},
   "outputs": [
    {
     "data": {
      "text/plain": [
       "[439, 435, 454, 449, 445]"
      ]
     },
     "execution_count": 31,
     "metadata": {},
     "output_type": "execute_result"
    }
   ],
   "source": [
    "vocab_size = []\n",
    "\n",
    "for i in range(0,5):\n",
    "    vocab_size.append(len(ixtoword[i]) + 1) # one for appended 0's\n",
    "\n",
    "vocab_size"
   ]
  },
  {
   "cell_type": "code",
   "execution_count": 32,
   "metadata": {},
   "outputs": [
    {
     "name": "stdout",
     "output_type": "stream",
     "text": [
      "Description Length: 30\n",
      "Description Length: 30\n",
      "Description Length: 30\n",
      "Description Length: 30\n",
      "Description Length: 30\n"
     ]
    }
   ],
   "source": [
    "# convert a dictionary of clean descriptions to a list of descriptions\n",
    "def to_lines(descriptions):\n",
    "\tall_desc = list()\n",
    "\tfor key in descriptions.keys():\n",
    "\t\t[all_desc.append(d) for d in descriptions[key]]\n",
    "\treturn all_desc\n",
    "\n",
    "# calculate the length of the description with the most words\n",
    "def get_max_length(descriptions):\n",
    "\tlines = to_lines(descriptions)\n",
    "\treturn max(len(d.split()) for d in lines)\n",
    "\n",
    "max_length = []\n",
    "\n",
    "# determine the maximum sequence length\n",
    "for i in range(0,5):\n",
    "    max_length.append(get_max_length(train_descriptions[i]))\n",
    "    print('Description Length: %d' % max_length[i])"
   ]
  },
  {
   "cell_type": "code",
   "execution_count": 33,
   "metadata": {},
   "outputs": [],
   "source": [
    "# data generator, intended to be used in a call to model.fit_generator()\n",
    "def data_generator(descriptions, photos, wordtoix, max_length, num_photos_per_batch, vocab_size):\n",
    "    X1, X2, y = list(), list(), list()\n",
    "    n=0\n",
    "    # loop for ever over images\n",
    "    while 1:\n",
    "        for key, desc_list in descriptions.items():\n",
    "            n+=1\n",
    "            # retrieve the photo feature\n",
    "            photo = photos[key+'.jpg']\n",
    "            for desc in desc_list:\n",
    "                # encode the sequence\n",
    "                seq = [wordtoix[word] for word in desc.split(' ') if word in wordtoix]\n",
    "                # split one sequence into multiple X, y pairs\n",
    "                for i in range(1, len(seq)):\n",
    "                    # split into input and output pair\n",
    "                    in_seq, out_seq = seq[:i], seq[i]\n",
    "                    # pad input sequence\n",
    "                    in_seq = pad_sequences([in_seq], maxlen=max_length)[0]\n",
    "                    # encode output sequence\n",
    "                    out_seq = to_categorical([out_seq], num_classes=vocab_size)[0]\n",
    "                    # store\n",
    "                    X1.append(photo)\n",
    "                    X2.append(in_seq)\n",
    "                    y.append(out_seq)\n",
    "            # yield the batch data\n",
    "            if n==num_photos_per_batch:\n",
    "#                 yield [[array(X1), array(X2)], array(y)]\n",
    "                yield ([array(X1), array(X2)], array(y)) \n",
    "                X1, X2, y = list(), list(), list()\n",
    "                n=0"
   ]
  },
  {
   "cell_type": "markdown",
   "metadata": {},
   "source": [
    "Embedings pobrane stąd: https://github.com/sdadas/polish-nlp-resources/releases/download/v1.0/glove.zip"
   ]
  },
  {
   "cell_type": "code",
   "execution_count": 34,
   "metadata": {},
   "outputs": [],
   "source": [
    "# Load Glove vectors\n",
    "glove_dir = '../../glove'\n",
    "embeddings_index = []\n",
    "\n",
    "for i in range(0,5):\n",
    "    embeddings_index.append({}) # empty dictionary\n",
    "\n",
    "f = open(os.path.join(glove_dir, 'glove.6B.200d.txt'), encoding=\"utf-8\")\n",
    "\n",
    "for line in f:\n",
    "    values = line.split()\n",
    "    coefs = np.asarray(values[1:], dtype='float32')\n",
    "    for i in range(0,5):\n",
    "        word = values[0]\n",
    "        embeddings_index[i][word] = coefs\n"
   ]
  },
  {
   "cell_type": "code",
   "execution_count": 35,
   "metadata": {},
   "outputs": [],
   "source": [
    "embedding_dim = 200\n",
    "embedding_matrix = []\n",
    "\n",
    "# Get 200-dim dense vector for each of the 10000 words in out vocabulary\n",
    "for i in range(0,5):\n",
    "    embedding_matrix.append(np.zeros((vocab_size[i], embedding_dim)))\n",
    "\n",
    "    for word, j in wordtoix[i].items():\n",
    "        #if i < max_words:\n",
    "        embedding_vector = embeddings_index[i].get(word)\n",
    "        if embedding_vector is not None:\n",
    "            # Words not found in the embedding index will be all zeros\n",
    "            embedding_matrix[i][j] = embedding_vector"
   ]
  },
  {
   "cell_type": "code",
   "execution_count": 36,
   "metadata": {},
   "outputs": [],
   "source": [
    "model = []\n",
    "\n",
    "for i in range(0,5):\n",
    "    inputs1 = Input(shape=(2048,))\n",
    "    fe1 = Dropout(0.5)(inputs1)\n",
    "    fe2 = Dense(256, activation='relu')(fe1)\n",
    "    inputs2 = Input(shape=(max_length[i],))\n",
    "    se1 = Embedding(vocab_size[i], embedding_dim, mask_zero=True)(inputs2)\n",
    "    se2 = Dropout(0.5)(se1)\n",
    "    se3 = LSTM(256)(se2)\n",
    "    decoder1 = add([fe2, se3])\n",
    "    decoder2 = Dense(256, activation='relu')(decoder1)\n",
    "    outputs = Dense(vocab_size[i], activation='softmax')(decoder2)\n",
    "    model.append(Model(inputs=[inputs1, inputs2], outputs=outputs))"
   ]
  },
  {
   "cell_type": "code",
   "execution_count": 37,
   "metadata": {},
   "outputs": [],
   "source": [
    "for i in range(0,5):\n",
    "    model[i].layers[2].set_weights([embedding_matrix[i]])\n",
    "    model[i].layers[2].trainable = False"
   ]
  },
  {
   "cell_type": "code",
   "execution_count": 38,
   "metadata": {},
   "outputs": [],
   "source": [
    "for i in range(0,5):\n",
    "    model[i].compile(loss='categorical_crossentropy', optimizer='adam')"
   ]
  },
  {
   "cell_type": "code",
   "execution_count": 39,
   "metadata": {},
   "outputs": [],
   "source": [
    "epochs = 10\n",
    "number_pics_per_bath = 3\n",
    "steps = []\n",
    "for i in range(0,5):\n",
    "    steps.append(len(train_descriptions[i])//number_pics_per_bath)"
   ]
  },
  {
   "cell_type": "markdown",
   "metadata": {},
   "source": [
    "Kolejny dość czasochłonny krok"
   ]
  },
  {
   "cell_type": "code",
   "execution_count": 40,
   "metadata": {},
   "outputs": [
    {
     "name": "stdout",
     "output_type": "stream",
     "text": [
      "<generator object data_generator at 0x0000029013DBF5C8>\n",
      "Epoch 1/1\n",
      "233/233 [==============================] - 78s 333ms/step - loss: 4.7009\n",
      "<generator object data_generator at 0x0000029013DBF448>\n",
      "Epoch 1/1\n",
      "233/233 [==============================] - 74s 318ms/step - loss: 4.0507\n",
      "<generator object data_generator at 0x0000029013DBF5C8>\n",
      "Epoch 1/1\n",
      "233/233 [==============================] - 72s 308ms/step - loss: 3.6733\n",
      "<generator object data_generator at 0x000002901732FD48>\n",
      "Epoch 1/1\n",
      "233/233 [==============================] - 71s 303ms/step - loss: 3.3998\n",
      "<generator object data_generator at 0x0000029013DBF448>\n",
      "Epoch 1/1\n",
      "233/233 [==============================] - 70s 299ms/step - loss: 3.1983\n",
      "<generator object data_generator at 0x000002901732FD48>\n",
      "Epoch 1/1\n",
      "233/233 [==============================] - 67s 289ms/step - loss: 3.0406\n",
      "<generator object data_generator at 0x0000029013DBF5C8>\n",
      "Epoch 1/1\n",
      "233/233 [==============================] - 67s 288ms/step - loss: 2.9212\n",
      "<generator object data_generator at 0x000002901732FD48>\n",
      "Epoch 1/1\n",
      "233/233 [==============================] - 68s 292ms/step - loss: 2.7946\n",
      "<generator object data_generator at 0x0000029013DBF5C8>\n",
      "Epoch 1/1\n",
      "233/233 [==============================] - 68s 293ms/step - loss: 2.6781\n",
      "<generator object data_generator at 0x000002901732FD48>\n",
      "Epoch 1/1\n",
      "233/233 [==============================] - 68s 290ms/step - loss: 2.5859\n",
      "<generator object data_generator at 0x0000029013DBF448>\n",
      "Epoch 1/1\n",
      "233/233 [==============================] - 71s 303ms/step - loss: 4.6478\n",
      "<generator object data_generator at 0x00000290179278C8>\n",
      "Epoch 1/1\n",
      "233/233 [==============================] - 70s 299ms/step - loss: 3.9956\n",
      "<generator object data_generator at 0x0000029015B20E48>\n",
      "Epoch 1/1\n",
      "233/233 [==============================] - 67s 290ms/step - loss: 3.6413\n",
      "<generator object data_generator at 0x00000290179278C8>\n",
      "Epoch 1/1\n",
      "233/233 [==============================] - 68s 293ms/step - loss: 3.3811\n",
      "<generator object data_generator at 0x0000029015B2B748>\n",
      "Epoch 1/1\n",
      "233/233 [==============================] - 70s 300ms/step - loss: 3.1772\n",
      "<generator object data_generator at 0x000002901732FEC8>\n",
      "Epoch 1/1\n",
      "233/233 [==============================] - 67s 288ms/step - loss: 3.0282\n",
      "<generator object data_generator at 0x0000029015B20E48>\n",
      "Epoch 1/1\n",
      "233/233 [==============================] - 69s 296ms/step - loss: 2.8946\n",
      "<generator object data_generator at 0x0000029015B2B748>\n",
      "Epoch 1/1\n",
      "233/233 [==============================] - 68s 293ms/step - loss: 2.7633\n",
      "<generator object data_generator at 0x0000029015B20E48>\n",
      "Epoch 1/1\n",
      "233/233 [==============================] - 68s 290ms/step - loss: 2.6611\n",
      "<generator object data_generator at 0x000002901732FEC8>\n",
      "Epoch 1/1\n",
      "233/233 [==============================] - 69s 295ms/step - loss: 2.5574\n",
      "<generator object data_generator at 0x0000029015B20E48>\n",
      "Epoch 1/1\n",
      "233/233 [==============================] - 69s 296ms/step - loss: 4.7026\n",
      "<generator object data_generator at 0x00000290179278C8>\n",
      "Epoch 1/1\n",
      "233/233 [==============================] - 68s 292ms/step - loss: 4.0662\n",
      "<generator object data_generator at 0x0000029015B20E48>\n",
      "Epoch 1/1\n",
      "233/233 [==============================] - 68s 291ms/step - loss: 3.6961\n",
      "<generator object data_generator at 0x0000029013DBF448>\n",
      "Epoch 1/1\n",
      "233/233 [==============================] - 68s 292ms/step - loss: 3.4332\n",
      "<generator object data_generator at 0x00000290179278C8>\n",
      "Epoch 1/1\n",
      "233/233 [==============================] - 67s 289ms/step - loss: 3.2338\n",
      "<generator object data_generator at 0x0000029013DBF448>\n",
      "Epoch 1/1\n",
      "233/233 [==============================] - 69s 296ms/step - loss: 3.0627\n",
      "<generator object data_generator at 0x00000290179278C8>\n",
      "Epoch 1/1\n",
      "233/233 [==============================] - 68s 290ms/step - loss: 2.9273\n",
      "<generator object data_generator at 0x0000029013DBF448>\n",
      "Epoch 1/1\n",
      "233/233 [==============================] - 67s 289ms/step - loss: 2.8127\n",
      "<generator object data_generator at 0x0000029015B20E48>\n",
      "Epoch 1/1\n",
      "233/233 [==============================] - 68s 290ms/step - loss: 2.7046\n",
      "<generator object data_generator at 0x0000029013DBF448>\n",
      "Epoch 1/1\n",
      "233/233 [==============================] - 68s 291ms/step - loss: 2.6033\n",
      "<generator object data_generator at 0x00000290179278C8>\n",
      "Epoch 1/1\n",
      "233/233 [==============================] - 68s 292ms/step - loss: 4.6939\n",
      "<generator object data_generator at 0x000002901781C1C8>\n",
      "Epoch 1/1\n",
      "233/233 [==============================] - 68s 293ms/step - loss: 4.0409\n",
      "<generator object data_generator at 0x00000290238977C8>\n",
      "Epoch 1/1\n",
      "233/233 [==============================] - 70s 298ms/step - loss: 3.6651\n",
      "<generator object data_generator at 0x00000290177BEEC8>\n",
      "Epoch 1/1\n",
      "233/233 [==============================] - 68s 291ms/step - loss: 3.4090\n",
      "<generator object data_generator at 0x00000290179278C8>\n",
      "Epoch 1/1\n",
      "233/233 [==============================] - 70s 301ms/step - loss: 3.2147\n",
      "<generator object data_generator at 0x00000290238977C8>\n",
      "Epoch 1/1\n",
      "233/233 [==============================] - 71s 306ms/step - loss: 3.0559\n",
      "<generator object data_generator at 0x00000290179278C8>\n",
      "Epoch 1/1\n",
      "233/233 [==============================] - 70s 302ms/step - loss: 2.9070\n",
      "<generator object data_generator at 0x000002901781C1C8>\n",
      "Epoch 1/1\n",
      "233/233 [==============================] - 68s 293ms/step - loss: 2.7847\n",
      "<generator object data_generator at 0x00000290238977C8>\n",
      "Epoch 1/1\n",
      "233/233 [==============================] - 68s 292ms/step - loss: 2.6640\n",
      "<generator object data_generator at 0x00000290177C77C8>\n",
      "Epoch 1/1\n",
      "233/233 [==============================] - 68s 291ms/step - loss: 2.5525\n",
      "<generator object data_generator at 0x00000290179278C8>\n",
      "Epoch 1/1\n",
      "233/233 [==============================] - 68s 290ms/step - loss: 4.6844\n",
      "<generator object data_generator at 0x00000290177BEEC8>\n",
      "Epoch 1/1\n",
      "233/233 [==============================] - 67s 289ms/step - loss: 4.0587\n",
      "<generator object data_generator at 0x00000290179278C8>\n",
      "Epoch 1/1\n",
      "233/233 [==============================] - 68s 291ms/step - loss: 3.6862\n",
      "<generator object data_generator at 0x00000290259B6F48>\n",
      "Epoch 1/1\n",
      "233/233 [==============================] - 68s 292ms/step - loss: 3.4110\n",
      "<generator object data_generator at 0x00000290177BEEC8>\n",
      "Epoch 1/1\n",
      "233/233 [==============================] - 67s 289ms/step - loss: 3.1992\n",
      "<generator object data_generator at 0x00000290259B6F48>\n",
      "Epoch 1/1\n",
      "233/233 [==============================] - 68s 292ms/step - loss: 3.0275\n",
      "<generator object data_generator at 0x00000290179278C8>\n",
      "Epoch 1/1\n",
      "233/233 [==============================] - 68s 290ms/step - loss: 2.8921\n",
      "<generator object data_generator at 0x00000290177BEEC8>\n",
      "Epoch 1/1\n",
      "233/233 [==============================] - 67s 288ms/step - loss: 2.7650\n",
      "<generator object data_generator at 0x00000290179278C8>\n",
      "Epoch 1/1\n",
      "233/233 [==============================] - 68s 292ms/step - loss: 2.6473\n",
      "<generator object data_generator at 0x00000290259B6F48>\n",
      "Epoch 1/1\n",
      "233/233 [==============================] - 67s 288ms/step - loss: 2.5506\n"
     ]
    }
   ],
   "source": [
    "for i in range(0,5):\n",
    "    for epoch in range(epochs):\n",
    "        generator = data_generator(train_descriptions[i], train_features[i], wordtoix[i], max_length[i], number_pics_per_bath, vocab_size[i])\n",
    "        print(generator)\n",
    "        model[i].fit_generator(generator, epochs=1, steps_per_epoch=steps[i], verbose=1)\n",
    "        writepath = f'model_weights/model_{str(epoch)}_{learn_mode}_{i}.h5'\n",
    "\n",
    "        mode = 'a' if os.path.exists(writepath) else 'wb'\n",
    "    #     file = open(writepath, mode)\n",
    "        model[i].save(writepath)"
   ]
  },
  {
   "cell_type": "code",
   "execution_count": 41,
   "metadata": {},
   "outputs": [
    {
     "name": "stdout",
     "output_type": "stream",
     "text": [
      "Epoch 1/1\n",
      "233/233 [==============================] - 68s 290ms/step - loss: 2.4894\n",
      "Epoch 1/1\n",
      "233/233 [==============================] - 69s 297ms/step - loss: 2.3915\n",
      "Epoch 1/1\n",
      "233/233 [==============================] - 69s 294ms/step - loss: 2.3094\n",
      "Epoch 1/1\n",
      "233/233 [==============================] - 68s 291ms/step - loss: 2.2296\n",
      "Epoch 1/1\n",
      "233/233 [==============================] - 67s 289ms/step - loss: 2.1482\n",
      "Epoch 1/1\n",
      "233/233 [==============================] - 68s 292ms/step - loss: 2.0602\n",
      "Epoch 1/1\n",
      "233/233 [==============================] - 67s 288ms/step - loss: 1.9919\n",
      "Epoch 1/1\n",
      "233/233 [==============================] - 69s 296ms/step - loss: 1.9246\n",
      "Epoch 1/1\n",
      "233/233 [==============================] - 70s 300ms/step - loss: 1.8724\n",
      "Epoch 1/1\n",
      "233/233 [==============================] - 67s 288ms/step - loss: 1.8183\n",
      "Epoch 1/1\n",
      "233/233 [==============================] - 67s 289ms/step - loss: 2.4740\n",
      "Epoch 1/1\n",
      "233/233 [==============================] - 68s 292ms/step - loss: 2.3854\n",
      "Epoch 1/1\n",
      "233/233 [==============================] - 67s 290ms/step - loss: 2.3136\n",
      "Epoch 1/1\n",
      "233/233 [==============================] - 68s 291ms/step - loss: 2.2198\n",
      "Epoch 1/1\n",
      "233/233 [==============================] - 68s 291ms/step - loss: 2.1450\n",
      "Epoch 1/1\n",
      "233/233 [==============================] - 68s 293ms/step - loss: 2.0663\n",
      "Epoch 1/1\n",
      "233/233 [==============================] - 68s 291ms/step - loss: 1.9914\n",
      "Epoch 1/1\n",
      "233/233 [==============================] - 68s 293ms/step - loss: 1.9210\n",
      "Epoch 1/1\n",
      "233/233 [==============================] - 67s 289ms/step - loss: 1.8735\n",
      "Epoch 1/1\n",
      "233/233 [==============================] - 69s 294ms/step - loss: 1.8113\n",
      "Epoch 1/1\n",
      "233/233 [==============================] - 68s 292ms/step - loss: 2.5162\n",
      "Epoch 1/1\n",
      "233/233 [==============================] - 69s 297ms/step - loss: 2.4307\n",
      "Epoch 1/1\n",
      "233/233 [==============================] - 68s 292ms/step - loss: 2.3410\n",
      "Epoch 1/1\n",
      "233/233 [==============================] - 67s 288ms/step - loss: 2.2731\n",
      "Epoch 1/1\n",
      "233/233 [==============================] - 68s 291ms/step - loss: 2.2103\n",
      "Epoch 1/1\n",
      "233/233 [==============================] - 69s 295ms/step - loss: 2.1339\n",
      "Epoch 1/1\n",
      "233/233 [==============================] - 68s 291ms/step - loss: 2.0643\n",
      "Epoch 1/1\n",
      "233/233 [==============================] - 68s 290ms/step - loss: 1.9958\n",
      "Epoch 1/1\n",
      "233/233 [==============================] - 68s 291ms/step - loss: 1.9380\n",
      "Epoch 1/1\n",
      "233/233 [==============================] - 68s 290ms/step - loss: 1.8583\n",
      "Epoch 1/1\n",
      "233/233 [==============================] - 69s 296ms/step - loss: 2.4570\n",
      "Epoch 1/1\n",
      "233/233 [==============================] - 68s 294ms/step - loss: 2.3794\n",
      "Epoch 1/1\n",
      "233/233 [==============================] - 68s 292ms/step - loss: 2.2817\n",
      "Epoch 1/1\n",
      "233/233 [==============================] - 68s 292ms/step - loss: 2.2028\n",
      "Epoch 1/1\n",
      "233/233 [==============================] - 67s 289ms/step - loss: 2.1332\n",
      "Epoch 1/1\n",
      "233/233 [==============================] - 68s 292ms/step - loss: 2.0512\n",
      "Epoch 1/1\n",
      "233/233 [==============================] - 68s 290ms/step - loss: 1.9771\n",
      "Epoch 1/1\n",
      "233/233 [==============================] - 67s 288ms/step - loss: 1.9039\n",
      "Epoch 1/1\n",
      "233/233 [==============================] - 69s 294ms/step - loss: 1.8597\n",
      "Epoch 1/1\n",
      "233/233 [==============================] - 68s 290ms/step - loss: 1.7991\n",
      "Epoch 1/1\n",
      "233/233 [==============================] - 68s 290ms/step - loss: 2.4600\n",
      "Epoch 1/1\n",
      "233/233 [==============================] - 70s 299ms/step - loss: 2.3515\n",
      "Epoch 1/1\n",
      "233/233 [==============================] - 20020s 86s/step - loss: 2.2615\n",
      "Epoch 1/1\n",
      "233/233 [==============================] - 79s 340ms/step - loss: 2.1690\n",
      "Epoch 1/1\n",
      "233/233 [==============================] - 74s 319ms/step - loss: 2.0969\n",
      "Epoch 1/1\n",
      "233/233 [==============================] - 72s 307ms/step - loss: 2.0318\n",
      "Epoch 1/1\n",
      "233/233 [==============================] - 72s 308ms/step - loss: 1.9489\n",
      "Epoch 1/1\n",
      "233/233 [==============================] - 72s 309ms/step - loss: 1.8867\n",
      "Epoch 1/1\n",
      "233/233 [==============================] - 72s 307ms/step - loss: 1.8298\n",
      "Epoch 1/1\n",
      "233/233 [==============================] - 69s 298ms/step - loss: 1.7758\n"
     ]
    }
   ],
   "source": [
    "for i in range(0,5):\n",
    "    for epoch in range(epochs):\n",
    "        generator = data_generator(train_descriptions[i], train_features[i], wordtoix[i], max_length[i], number_pics_per_bath, vocab_size[i])\n",
    "        model[i].fit_generator(generator, epochs=1, steps_per_epoch=steps[i], verbose=1)\n",
    "        model[i].save(f'model_weights/model_{str(epoch)}_{learn_mode}_{i}.h5')"
   ]
  },
  {
   "cell_type": "code",
   "execution_count": 42,
   "metadata": {},
   "outputs": [],
   "source": [
    "# model.optimizer.lr = 0.0001\n",
    "epochs = 10\n",
    "number_pics_per_bath = 6\n",
    "steps = []\n",
    "for i in range(0,5):\n",
    "    steps.append(len(train_descriptions[i])//number_pics_per_bath)"
   ]
  },
  {
   "cell_type": "code",
   "execution_count": 43,
   "metadata": {},
   "outputs": [
    {
     "name": "stdout",
     "output_type": "stream",
     "text": [
      "Epoch 1/1\n",
      "116/116 [==============================] - 64s 555ms/step - loss: 1.8764\n",
      "Epoch 1/1\n",
      "116/116 [==============================] - 63s 544ms/step - loss: 1.8161\n",
      "Epoch 1/1\n",
      "116/116 [==============================] - 63s 541ms/step - loss: 1.7459\n",
      "Epoch 1/1\n",
      "116/116 [==============================] - 64s 548ms/step - loss: 1.6944\n",
      "Epoch 1/1\n",
      "116/116 [==============================] - 64s 548ms/step - loss: 1.6613\n",
      "Epoch 1/1\n",
      "116/116 [==============================] - 64s 555ms/step - loss: 1.6111\n",
      "Epoch 1/1\n",
      "116/116 [==============================] - 65s 561ms/step - loss: 1.5692\n",
      "Epoch 1/1\n",
      "116/116 [==============================] - 65s 564ms/step - loss: 1.5263\n",
      "Epoch 1/1\n",
      "116/116 [==============================] - 64s 554ms/step - loss: 1.5056\n",
      "Epoch 1/1\n",
      "116/116 [==============================] - 63s 543ms/step - loss: 1.4812\n",
      "Epoch 1/1\n",
      "116/116 [==============================] - 63s 540ms/step - loss: 1.9181\n",
      "Epoch 1/1\n",
      "116/116 [==============================] - 63s 542ms/step - loss: 1.8698\n",
      "Epoch 1/1\n",
      "116/116 [==============================] - 63s 546ms/step - loss: 1.7994\n",
      "Epoch 1/1\n",
      "116/116 [==============================] - 63s 540ms/step - loss: 1.7547\n",
      "Epoch 1/1\n",
      "116/116 [==============================] - 62s 537ms/step - loss: 1.7002\n",
      "Epoch 1/1\n",
      "116/116 [==============================] - 65s 562ms/step - loss: 1.6582\n",
      "Epoch 1/1\n",
      "116/116 [==============================] - 3172s 27s/step - loss: 1.6212\n",
      "Epoch 1/1\n",
      "116/116 [==============================] - 73s 632ms/step - loss: 1.5830\n",
      "Epoch 1/1\n",
      "116/116 [==============================] - 71s 612ms/step - loss: 1.5643\n",
      "Epoch 1/1\n",
      "116/116 [==============================] - 70s 601ms/step - loss: 1.5133\n",
      "Epoch 1/1\n",
      "116/116 [==============================] - 72s 618ms/step - loss: 1.9602\n",
      "Epoch 1/1\n",
      "116/116 [==============================] - 63s 546ms/step - loss: 1.9180\n",
      "Epoch 1/1\n",
      "116/116 [==============================] - 63s 543ms/step - loss: 1.8503\n",
      "Epoch 1/1\n",
      "116/116 [==============================] - 63s 546ms/step - loss: 1.8058\n",
      "Epoch 1/1\n",
      "116/116 [==============================] - 67s 574ms/step - loss: 1.7567\n",
      "Epoch 1/1\n",
      "116/116 [==============================] - 63s 543ms/step - loss: 1.7040\n",
      "Epoch 1/1\n",
      "116/116 [==============================] - 64s 555ms/step - loss: 1.6631\n",
      "Epoch 1/1\n",
      "116/116 [==============================] - 63s 547ms/step - loss: 1.6312\n",
      "Epoch 1/1\n",
      "116/116 [==============================] - 64s 550ms/step - loss: 1.6013\n",
      "Epoch 1/1\n",
      "116/116 [==============================] - 64s 551ms/step - loss: 1.5703\n",
      "Epoch 1/1\n",
      "116/116 [==============================] - 66s 570ms/step - loss: 1.8736\n",
      "Epoch 1/1\n",
      "116/116 [==============================] - 65s 561ms/step - loss: 1.8313\n",
      "Epoch 1/1\n",
      "116/116 [==============================] - 65s 563ms/step - loss: 1.7976\n",
      "Epoch 1/1\n",
      "116/116 [==============================] - 64s 553ms/step - loss: 1.7432\n",
      "Epoch 1/1\n",
      "116/116 [==============================] - 65s 562ms/step - loss: 1.7017\n",
      "Epoch 1/1\n",
      "116/116 [==============================] - 66s 572ms/step - loss: 1.6597\n",
      "Epoch 1/1\n",
      "116/116 [==============================] - 71s 610ms/step - loss: 1.6250\n",
      "Epoch 1/1\n",
      "116/116 [==============================] - 72s 624ms/step - loss: 1.5906\n",
      "Epoch 1/1\n",
      "116/116 [==============================] - 68s 588ms/step - loss: 1.5499\n",
      "Epoch 1/1\n",
      "116/116 [==============================] - 65s 556ms/step - loss: 1.5163\n",
      "Epoch 1/1\n",
      "116/116 [==============================] - 64s 553ms/step - loss: 1.8607\n",
      "Epoch 1/1\n",
      "116/116 [==============================] - 64s 548ms/step - loss: 1.8473\n",
      "Epoch 1/1\n",
      "116/116 [==============================] - 64s 553ms/step - loss: 1.7816\n",
      "Epoch 1/1\n",
      "116/116 [==============================] - 65s 559ms/step - loss: 1.7187\n",
      "Epoch 1/1\n",
      "116/116 [==============================] - 65s 558ms/step - loss: 1.6724\n",
      "Epoch 1/1\n",
      "116/116 [==============================] - 65s 564ms/step - loss: 1.6208\n",
      "Epoch 1/1\n",
      "116/116 [==============================] - 64s 555ms/step - loss: 1.5869\n",
      "Epoch 1/1\n",
      "116/116 [==============================] - 65s 556ms/step - loss: 1.5442\n",
      "Epoch 1/1\n",
      "116/116 [==============================] - 64s 554ms/step - loss: 1.4969\n",
      "Epoch 1/1\n",
      "116/116 [==============================] - 66s 568ms/step - loss: 1.4722\n"
     ]
    }
   ],
   "source": [
    "for i in range(0,5):\n",
    "    for epoch in range(epochs):\n",
    "        generator = data_generator(train_descriptions[i], train_features[i], wordtoix[i], max_length[i], number_pics_per_bath, vocab_size[i])\n",
    "        model[i].fit_generator(generator, epochs=1, steps_per_epoch=steps[i], verbose=1)"
   ]
  },
  {
   "cell_type": "code",
   "execution_count": 44,
   "metadata": {},
   "outputs": [],
   "source": [
    "for i in range(0,5):\n",
    "    model[i].save_weights(f'model_weights/model_30_{learn_mode}_{i}.h5')"
   ]
  },
  {
   "cell_type": "code",
   "execution_count": 45,
   "metadata": {},
   "outputs": [],
   "source": [
    "for i in range(0,5):\n",
    "    model[i].load_weights(f'model_weights/model_30_{learn_mode}_{i}.h5')"
   ]
  }
 ],
 "metadata": {
  "kernelspec": {
   "display_name": "deep",
   "language": "python",
   "name": "deep"
  },
  "language_info": {
   "codemirror_mode": {
    "name": "ipython",
    "version": 3
   },
   "file_extension": ".py",
   "mimetype": "text/x-python",
   "name": "python",
   "nbconvert_exporter": "python",
   "pygments_lexer": "ipython3",
   "version": "3.7.9"
  }
 },
 "nbformat": 4,
 "nbformat_minor": 2
}
